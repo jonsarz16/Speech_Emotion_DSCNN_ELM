{
  "cells": [
    {
      "cell_type": "markdown",
      "metadata": {
        "id": "view-in-github",
        "colab_type": "text"
      },
      "source": [
        "<a href=\"https://colab.research.google.com/github/jonsarz16/Speech_Emotion_DSCNN_ELM/blob/main/3_DSCNN_ELM_MODEL.ipynb\" target=\"_parent\"><img src=\"https://colab.research.google.com/assets/colab-badge.svg\" alt=\"Open In Colab\"/></a>"
      ]
    },
    {
      "cell_type": "code",
      "source": [
        "!pip install hpelm\n",
        "\n",
        "import hpelm\n",
        "import tensorflow as tf\n",
        "import numpy as np\n",
        "from keras.models import Sequential, Model\n",
        "from keras.utils import np_utils\n",
        "import math\n",
        "\n",
        "# Python\n",
        "import os\n",
        "import numpy as np\n",
        "import librosa, librosa.display\n",
        "import pandas as pd\n",
        "import IPython.display as ipd\n",
        "from matplotlib import pyplot as plt\n",
        "\n",
        "import math\n",
        "import scipy\n",
        "import random\n",
        "from random import randrange, uniform\n",
        "\n",
        "from tensorflow.python.framework import dtypes\n",
        "!pip install tensorflow_io\n",
        "import cv2\n",
        "import seaborn as sns\n",
        "import tensorflow as tf\n",
        "import tensorflow_io as tfio\n",
        "from tensorflow.keras.callbacks import EarlyStopping\n",
        "from sklearn.metrics import confusion_matrix, ConfusionMatrixDisplay"
      ],
      "metadata": {
        "colab": {
          "base_uri": "https://localhost:8080/"
        },
        "id": "vMADjjo0sH3F",
        "outputId": "a052d56d-830c-40fb-d8fe-189ee40dea06"
      },
      "execution_count": null,
      "outputs": [
        {
          "output_type": "stream",
          "name": "stdout",
          "text": [
            "Looking in indexes: https://pypi.org/simple, https://us-python.pkg.dev/colab-wheels/public/simple/\n",
            "Collecting hpelm\n",
            "  Downloading hpelm-1.0.10-py3-none-any.whl (50 kB)\n",
            "\u001b[K     |████████████████████████████████| 50 kB 5.3 MB/s \n",
            "\u001b[?25hCollecting fasteners\n",
            "  Downloading fasteners-0.17.3-py3-none-any.whl (18 kB)\n",
            "Requirement already satisfied: scipy>=0.12 in /usr/local/lib/python3.7/dist-packages (from hpelm) (1.4.1)\n",
            "Collecting nose\n",
            "  Downloading nose-1.3.7-py3-none-any.whl (154 kB)\n",
            "\u001b[K     |████████████████████████████████| 154 kB 32.5 MB/s \n",
            "\u001b[?25hRequirement already satisfied: six in /usr/local/lib/python3.7/dist-packages (from hpelm) (1.15.0)\n",
            "Requirement already satisfied: tables in /usr/local/lib/python3.7/dist-packages (from hpelm) (3.7.0)\n",
            "Requirement already satisfied: numpy in /usr/local/lib/python3.7/dist-packages (from hpelm) (1.21.6)\n",
            "Requirement already satisfied: packaging in /usr/local/lib/python3.7/dist-packages (from tables->hpelm) (21.3)\n",
            "Requirement already satisfied: numexpr>=2.6.2 in /usr/local/lib/python3.7/dist-packages (from tables->hpelm) (2.8.1)\n",
            "Requirement already satisfied: pyparsing!=3.0.5,>=2.0.2 in /usr/local/lib/python3.7/dist-packages (from packaging->tables->hpelm) (3.0.9)\n",
            "Installing collected packages: nose, fasteners, hpelm\n",
            "Successfully installed fasteners-0.17.3 hpelm-1.0.10 nose-1.3.7\n",
            "Looking in indexes: https://pypi.org/simple, https://us-python.pkg.dev/colab-wheels/public/simple/\n",
            "Collecting tensorflow_io\n",
            "  Downloading tensorflow_io-0.26.0-cp37-cp37m-manylinux_2_12_x86_64.manylinux2010_x86_64.whl (25.9 MB)\n",
            "\u001b[K     |████████████████████████████████| 25.9 MB 1.7 MB/s \n",
            "\u001b[?25hRequirement already satisfied: tensorflow-io-gcs-filesystem==0.26.0 in /usr/local/lib/python3.7/dist-packages (from tensorflow_io) (0.26.0)\n",
            "Installing collected packages: tensorflow-io\n",
            "Successfully installed tensorflow-io-0.26.0\n"
          ]
        }
      ]
    },
    {
      "cell_type": "code",
      "source": [
        "from google.colab import drive\n",
        "drive.mount('/content/gdrive', force_remount=True)"
      ],
      "metadata": {
        "colab": {
          "base_uri": "https://localhost:8080/"
        },
        "id": "FPgDzA2EsJdk",
        "outputId": "8cae894e-260f-4a2f-fee2-5bcde9a1b790"
      },
      "execution_count": null,
      "outputs": [
        {
          "output_type": "stream",
          "name": "stdout",
          "text": [
            "Mounted at /content/gdrive\n"
          ]
        }
      ]
    },
    {
      "cell_type": "code",
      "source": [
        "NUM_CLASS  =  7\n",
        "ELM_HIDDEN_NEURONS  =  2000"
      ],
      "metadata": {
        "id": "DZ63FJjwMAEv"
      },
      "execution_count": null,
      "outputs": []
    },
    {
      "cell_type": "code",
      "source": [
        "dscnn_model = tf.keras.models.load_model('gdrive/MyDrive/Models/FinalModel500Epochs.h5')"
      ],
      "metadata": {
        "id": "T-WxiqA8MFKg",
        "colab": {
          "base_uri": "https://localhost:8080/",
          "height": 557
        },
        "outputId": "0078bedf-a137-4d6b-e0ba-1e54aa2189bf"
      },
      "execution_count": null,
      "outputs": [
        {
          "output_type": "error",
          "ename": "OSError",
          "evalue": "ignored",
          "traceback": [
            "\u001b[0;31m---------------------------------------------------------------------------\u001b[0m",
            "\u001b[0;31mOSError\u001b[0m                                   Traceback (most recent call last)",
            "\u001b[0;32m<ipython-input-4-a3f425063348>\u001b[0m in \u001b[0;36m<module>\u001b[0;34m()\u001b[0m\n\u001b[0;32m----> 1\u001b[0;31m \u001b[0mdscnn_model\u001b[0m \u001b[0;34m=\u001b[0m \u001b[0mtf\u001b[0m\u001b[0;34m.\u001b[0m\u001b[0mkeras\u001b[0m\u001b[0;34m.\u001b[0m\u001b[0mmodels\u001b[0m\u001b[0;34m.\u001b[0m\u001b[0mload_model\u001b[0m\u001b[0;34m(\u001b[0m\u001b[0;34m'gdrive/MyDrive/Models/FinalModel500Epochs.h5'\u001b[0m\u001b[0;34m)\u001b[0m\u001b[0;34m\u001b[0m\u001b[0;34m\u001b[0m\u001b[0m\n\u001b[0m",
            "\u001b[0;32m/usr/local/lib/python3.7/dist-packages/keras/utils/traceback_utils.py\u001b[0m in \u001b[0;36merror_handler\u001b[0;34m(*args, **kwargs)\u001b[0m\n\u001b[1;32m     65\u001b[0m     \u001b[0;32mexcept\u001b[0m \u001b[0mException\u001b[0m \u001b[0;32mas\u001b[0m \u001b[0me\u001b[0m\u001b[0;34m:\u001b[0m  \u001b[0;31m# pylint: disable=broad-except\u001b[0m\u001b[0;34m\u001b[0m\u001b[0;34m\u001b[0m\u001b[0m\n\u001b[1;32m     66\u001b[0m       \u001b[0mfiltered_tb\u001b[0m \u001b[0;34m=\u001b[0m \u001b[0m_process_traceback_frames\u001b[0m\u001b[0;34m(\u001b[0m\u001b[0me\u001b[0m\u001b[0;34m.\u001b[0m\u001b[0m__traceback__\u001b[0m\u001b[0;34m)\u001b[0m\u001b[0;34m\u001b[0m\u001b[0;34m\u001b[0m\u001b[0m\n\u001b[0;32m---> 67\u001b[0;31m       \u001b[0;32mraise\u001b[0m \u001b[0me\u001b[0m\u001b[0;34m.\u001b[0m\u001b[0mwith_traceback\u001b[0m\u001b[0;34m(\u001b[0m\u001b[0mfiltered_tb\u001b[0m\u001b[0;34m)\u001b[0m \u001b[0;32mfrom\u001b[0m \u001b[0;32mNone\u001b[0m\u001b[0;34m\u001b[0m\u001b[0;34m\u001b[0m\u001b[0m\n\u001b[0m\u001b[1;32m     68\u001b[0m     \u001b[0;32mfinally\u001b[0m\u001b[0;34m:\u001b[0m\u001b[0;34m\u001b[0m\u001b[0;34m\u001b[0m\u001b[0m\n\u001b[1;32m     69\u001b[0m       \u001b[0;32mdel\u001b[0m \u001b[0mfiltered_tb\u001b[0m\u001b[0;34m\u001b[0m\u001b[0;34m\u001b[0m\u001b[0m\n",
            "\u001b[0;32m/usr/local/lib/python3.7/dist-packages/keras/saving/save.py\u001b[0m in \u001b[0;36mload_model\u001b[0;34m(filepath, custom_objects, compile, options)\u001b[0m\n\u001b[1;32m    202\u001b[0m         \u001b[0;32mif\u001b[0m \u001b[0misinstance\u001b[0m\u001b[0;34m(\u001b[0m\u001b[0mfilepath_str\u001b[0m\u001b[0;34m,\u001b[0m \u001b[0mstr\u001b[0m\u001b[0;34m)\u001b[0m\u001b[0;34m:\u001b[0m\u001b[0;34m\u001b[0m\u001b[0;34m\u001b[0m\u001b[0m\n\u001b[1;32m    203\u001b[0m           \u001b[0;32mif\u001b[0m \u001b[0;32mnot\u001b[0m \u001b[0mtf\u001b[0m\u001b[0;34m.\u001b[0m\u001b[0mio\u001b[0m\u001b[0;34m.\u001b[0m\u001b[0mgfile\u001b[0m\u001b[0;34m.\u001b[0m\u001b[0mexists\u001b[0m\u001b[0;34m(\u001b[0m\u001b[0mfilepath_str\u001b[0m\u001b[0;34m)\u001b[0m\u001b[0;34m:\u001b[0m\u001b[0;34m\u001b[0m\u001b[0;34m\u001b[0m\u001b[0m\n\u001b[0;32m--> 204\u001b[0;31m             \u001b[0;32mraise\u001b[0m \u001b[0mIOError\u001b[0m\u001b[0;34m(\u001b[0m\u001b[0;34mf'No file or directory found at {filepath_str}'\u001b[0m\u001b[0;34m)\u001b[0m\u001b[0;34m\u001b[0m\u001b[0;34m\u001b[0m\u001b[0m\n\u001b[0m\u001b[1;32m    205\u001b[0m \u001b[0;34m\u001b[0m\u001b[0m\n\u001b[1;32m    206\u001b[0m           \u001b[0;32mif\u001b[0m \u001b[0mtf\u001b[0m\u001b[0;34m.\u001b[0m\u001b[0mio\u001b[0m\u001b[0;34m.\u001b[0m\u001b[0mgfile\u001b[0m\u001b[0;34m.\u001b[0m\u001b[0misdir\u001b[0m\u001b[0;34m(\u001b[0m\u001b[0mfilepath_str\u001b[0m\u001b[0;34m)\u001b[0m\u001b[0;34m:\u001b[0m\u001b[0;34m\u001b[0m\u001b[0;34m\u001b[0m\u001b[0m\n",
            "\u001b[0;31mOSError\u001b[0m: No file or directory found at gdrive/MyDrive/Models/FinalModel500Epochs.h5"
          ]
        }
      ]
    },
    {
      "cell_type": "code",
      "source": [
        "dir_list = '/content/gdrive/My Drive/old_Augmented Spectrogram'"
      ],
      "metadata": {
        "id": "D0slQcumM3Yp"
      },
      "execution_count": null,
      "outputs": []
    },
    {
      "cell_type": "code",
      "source": [
        "batch_size = 1000\n",
        "img_height = 256\n",
        "img_width = 256"
      ],
      "metadata": {
        "id": "OQ2noIiEMs6D"
      },
      "execution_count": null,
      "outputs": []
    },
    {
      "cell_type": "code",
      "source": [
        "train_ds = tf.keras.utils.image_dataset_from_directory(\n",
        "  dir_list,\n",
        "  shuffle=\"True\",\n",
        "  validation_split=0.3,\n",
        "  subset=\"training\",\n",
        "  seed=123,\n",
        "  image_size=(img_height, img_width),\n",
        "  batch_size=batch_size)"
      ],
      "metadata": {
        "colab": {
          "base_uri": "https://localhost:8080/"
        },
        "id": "KgyHnp-fMwTB",
        "outputId": "4e446e67-b8a3-483f-a342-0174bd45e997"
      },
      "execution_count": null,
      "outputs": [
        {
          "output_type": "stream",
          "name": "stdout",
          "text": [
            "Found 14000 files belonging to 7 classes.\n",
            "Using 9800 files for training.\n"
          ]
        }
      ]
    },
    {
      "cell_type": "code",
      "source": [
        "val_ds = tf.keras.utils.image_dataset_from_directory(\n",
        "  dir_list,\n",
        "  shuffle=\"True\",\n",
        "  validation_split=0.3,\n",
        "  subset=\"validation\",\n",
        "  seed=123,\n",
        "  image_size=(img_height, img_width),\n",
        "  batch_size=batch_size)"
      ],
      "metadata": {
        "colab": {
          "base_uri": "https://localhost:8080/"
        },
        "id": "mfytpJ-zs4QG",
        "outputId": "a5c36460-e41f-4725-8a7c-b14e118b1b89"
      },
      "execution_count": null,
      "outputs": [
        {
          "output_type": "stream",
          "name": "stdout",
          "text": [
            "Found 14000 files belonging to 7 classes.\n",
            "Using 4200 files for validation.\n"
          ]
        }
      ]
    },
    {
      "cell_type": "code",
      "source": [
        "train_labels = []\n",
        "for image, label in train_ds.take(1):\n",
        "  train_image_batch = image\n",
        "  train_labels.extend(np.array(label))"
      ],
      "metadata": {
        "id": "sl7Qn0FwHDVz"
      },
      "execution_count": null,
      "outputs": []
    },
    {
      "cell_type": "code",
      "source": [
        "test_labels = [] #target test\n",
        "\n",
        "for image, label in val_ds.take(1):\n",
        "  test_image_batch = image\n",
        "  test_labels.extend(np.array(label))"
      ],
      "metadata": {
        "id": "o3STPEpryVHv"
      },
      "execution_count": null,
      "outputs": []
    },
    {
      "cell_type": "code",
      "source": [
        "dscnn_model.summary()"
      ],
      "metadata": {
        "id": "g0ITQUA7OQG0"
      },
      "execution_count": null,
      "outputs": []
    },
    {
      "cell_type": "code",
      "source": [
        "layer_name = 'dense_2' #name of the last layer"
      ],
      "metadata": {
        "id": "k379CsSONrTi"
      },
      "execution_count": null,
      "outputs": []
    },
    {
      "cell_type": "code",
      "source": [
        "hidden_layer_model = Model(inputs = dscnn_model.input , outputs = dscnn_model.get_layer(layer_name).output )\n",
        "# dscnn_train_result = hidden_layer_model.predict(train_image_batch)\n",
        "dscnn_train_result = hidden_layer_model.predict(train_image_batch)\n",
        "# hidden_layer_model.compile(\n",
        "# optimizer='adam',\n",
        "# loss='sparse_categorical_crossentropy',\n",
        "# metrics=['accuracy'])\n",
        "\n",
        "# monitor = EarlyStopping(monitor='val_loss', min_delta=1e-3, patience=3, \n",
        "#     verbose=1, mode='auto', restore_best_weights=True)\n",
        "\n",
        "# dscnn_train_result = hidden_layer_model.fit(train_ds, validation_data=val_ds, callbacks=[monitor], verbose=2, epochs = 2)\n"
      ],
      "metadata": {
        "id": "uIVq0ixAVj3m"
      },
      "execution_count": null,
      "outputs": []
    },
    {
      "cell_type": "markdown",
      "source": [
        "**TRAIN/FIT ELM MODEL**"
      ],
      "metadata": {
        "id": "RnYj5uUQy4Y7"
      }
    },
    {
      "cell_type": "code",
      "source": [
        "train_label = np.expand_dims(train_labels, -1)"
      ],
      "metadata": {
        "id": "qj_yJNxCj75i"
      },
      "execution_count": null,
      "outputs": []
    },
    {
      "cell_type": "code",
      "source": [
        "target_train_oh = np_utils.to_categorical(train_labels, NUM_CLASS)"
      ],
      "metadata": {
        "id": "jOYbBadkrsTZ"
      },
      "execution_count": null,
      "outputs": []
    },
    {
      "cell_type": "code",
      "source": [
        "elm_model = hpelm.elm.ELM(dscnn_train_result.shape[1] , NUM_CLASS)"
      ],
      "metadata": {
        "id": "1LhefqI1X5kM"
      },
      "execution_count": null,
      "outputs": []
    },
    {
      "cell_type": "code",
      "source": [
        "elm_model.add_neurons( ELM_HIDDEN_NEURONS , func = 'sigm')"
      ],
      "metadata": {
        "id": "lfu-nWn4X914"
      },
      "execution_count": null,
      "outputs": []
    },
    {
      "cell_type": "code",
      "source": [
        "elm_model.train(dscnn_train_result, target_train_oh, 'ml')"
      ],
      "metadata": {
        "colab": {
          "base_uri": "https://localhost:8080/"
        },
        "id": "a492DBIFYHxq",
        "outputId": "b920dbe4-45cf-46bf-84b6-19b7feb49f5d"
      },
      "execution_count": null,
      "outputs": [
        {
          "output_type": "stream",
          "name": "stdout",
          "text": [
            "Covariance matrix is not full rank; solving with SVD (slow)\n",
            "This happened because you have duplicated or too many neurons\n"
          ]
        },
        {
          "output_type": "stream",
          "name": "stderr",
          "text": [
            "/usr/local/lib/python3.7/dist-packages/hpelm/nnets/slfn_python.py:65: FutureWarning: `rcond` parameter will change to the default of machine precision times ``max(M, N)`` where M and N are the input matrix dimensions.\n",
            "To use the future default and silence this warning we advise to pass `rcond=None`, to keep using the old, explicitly pass `rcond=-1`.\n",
            "  B = np.linalg.lstsq(HH, HT)[0]\n"
          ]
        }
      ]
    },
    {
      "cell_type": "markdown",
      "source": [
        "**TEST ELM MODEL**"
      ],
      "metadata": {
        "id": "t6nDe5o_y9EJ"
      }
    },
    {
      "cell_type": "code",
      "source": [
        "test_labels = np.expand_dims(test_labels, -1)\n",
        "target_test_oh = np_utils.to_categorical(test_labels, NUM_CLASS)"
      ],
      "metadata": {
        "id": "WCl9jCF-6fLL"
      },
      "execution_count": null,
      "outputs": []
    },
    {
      "cell_type": "code",
      "source": [
        "#ELM model evaluation\n",
        "dscnn_result = hidden_layer_model.predict(test_image_batch)\n",
        "elm_result = elm_model.predict(dscnn_result)\n",
        "\n",
        "elm_result_class = np.array([np.argmax(r) for r in elm_result])\n",
        "\n",
        "confusion = elm_model.confusion(target_test_oh, elm_result)\n",
        "\n",
        " \n"
      ],
      "metadata": {
        "id": "y0FANGNO2kxK"
      },
      "execution_count": null,
      "outputs": []
    },
    {
      "cell_type": "code",
      "source": [
        "#save model\n",
        "elm_model.save('gdrive/MyDrive/Models/DSCNN_ELM500epochsearlystop.h5')"
      ],
      "metadata": {
        "id": "cGX_wZgGHKIX"
      },
      "execution_count": null,
      "outputs": []
    },
    {
      "cell_type": "code",
      "source": [
        "# confusion_mtrx = tf.math.confusion_matrix(target_test_oh, elm_result)\n",
        "\n",
        "plt.figure(figsize=(10, 6))\n",
        "sns.heatmap(confusion, annot=True, \n",
        "            fmt='g',\n",
        "            xticklabels=val_ds.class_names,\n",
        "            yticklabels=val_ds.class_names\n",
        "            )\n",
        "plt.title('Confusion Matrix')\n",
        "plt.xlabel('Predicted Class')\n",
        "plt.ylabel('Actual Class')\n",
        "plt.show()"
      ],
      "metadata": {
        "colab": {
          "base_uri": "https://localhost:8080/",
          "height": 404
        },
        "id": "xpV7_NyHaMtX",
        "outputId": "9e56bade-d81b-4519-9110-d3f8d1cb6c52"
      },
      "execution_count": null,
      "outputs": [
        {
          "output_type": "display_data",
          "data": {
            "text/plain": [
              "<Figure size 720x432 with 2 Axes>"
            ],
            "image/png": "[encoded data removed]"
          },
          "metadata": {
            "needs_background": "light"
          }
        }
      ]
    },
    {
      "cell_type": "code",
      "source": [
        "from sklearn.metrics import precision_recall_fscore_support\n",
        "precision, recall, fscore, support = precision_recall_fscore_support(test_labels, elm_result_class)"
      ],
      "metadata": {
        "id": "JE5C_aax56Px"
      },
      "execution_count": null,
      "outputs": []
    },
    {
      "cell_type": "code",
      "source": [
        "print(precision)\n",
        "print(recall)\n",
        "print(fscore)\n",
        "print(support)"
      ],
      "metadata": {
        "colab": {
          "base_uri": "https://localhost:8080/"
        },
        "id": "N-XtP8jY77pK",
        "outputId": "8f7d3efa-f465-4c9a-952b-fee4586c713e"
      },
      "execution_count": null,
      "outputs": [
        {
          "output_type": "stream",
          "name": "stdout",
          "text": [
            "[0.95833333 0.98648649 0.95890411 0.97435897 0.99212598 0.96923077\n",
            " 0.96644295]\n",
            "[0.9787234  0.97986577 0.96551724 0.96815287 0.94029851 0.984375\n",
            " 0.98630137]\n",
            "[0.96842105 0.98316498 0.96219931 0.97124601 0.96551724 0.97674419\n",
            " 0.97627119]\n",
            "[141 149 145 157 134 128 146]\n"
          ]
        }
      ]
    },
    {
      "cell_type": "code",
      "source": [
        "from sklearn.metrics import accuracy_score\n",
        "\n",
        "print('Accuracy: ', accuracy_score(test_labels, elm_result_class))"
      ],
      "metadata": {
        "colab": {
          "base_uri": "https://localhost:8080/"
        },
        "id": "gRQXCNyo8mnd",
        "outputId": "5aa52944-29a3-4aac-eee8-0e8350629595"
      },
      "execution_count": null,
      "outputs": [
        {
          "output_type": "stream",
          "name": "stdout",
          "text": [
            "Accuracy:  0.972\n"
          ]
        }
      ]
    },
    {
      "cell_type": "code",
      "source": [
        "# classification report\n",
        "from sklearn.metrics import classification_report\n",
        "print(classification_report(test_labels, elm_result_class))"
      ],
      "metadata": {
        "colab": {
          "base_uri": "https://localhost:8080/"
        },
        "id": "9-76vEm5IDfw",
        "outputId": "664f7483-a06d-4dd1-fe77-73dbf812b86a"
      },
      "execution_count": null,
      "outputs": [
        {
          "output_type": "stream",
          "name": "stdout",
          "text": [
            "              precision    recall  f1-score   support\n",
            "\n",
            "           0       0.96      0.98      0.97       141\n",
            "           1       0.99      0.98      0.98       149\n",
            "           2       0.96      0.97      0.96       145\n",
            "           3       0.97      0.97      0.97       157\n",
            "           4       0.99      0.94      0.97       134\n",
            "           5       0.97      0.98      0.98       128\n",
            "           6       0.97      0.99      0.98       146\n",
            "\n",
            "    accuracy                           0.97      1000\n",
            "   macro avg       0.97      0.97      0.97      1000\n",
            "weighted avg       0.97      0.97      0.97      1000\n",
            "\n"
          ]
        }
      ]
    },
    {
      "cell_type": "markdown",
      "source": [
        "**PREDICT (1 DATA)**"
      ],
      "metadata": {
        "id": "B_XHgE9iG_HQ"
      }
    },
    {
      "cell_type": "code",
      "source": [
        "for images, labels in val_ds.take(1):\n",
        "  predictions = elm_model.predict(images)"
      ],
      "metadata": {
        "id": "7Yl3791gHIbB",
        "colab": {
          "base_uri": "https://localhost:8080/",
          "height": 329
        },
        "outputId": "3471f937-a4c1-4de4-c96b-a3d2945697a7"
      },
      "execution_count": null,
      "outputs": [
        {
          "output_type": "error",
          "ename": "AttributeError",
          "evalue": "ignored",
          "traceback": [
            "\u001b[0;31m---------------------------------------------------------------------------\u001b[0m",
            "\u001b[0;31mAttributeError\u001b[0m                            Traceback (most recent call last)",
            "\u001b[0;32m<ipython-input-58-cfd15b5a619a>\u001b[0m in \u001b[0;36m<module>\u001b[0;34m()\u001b[0m\n\u001b[1;32m      1\u001b[0m \u001b[0;32mfor\u001b[0m \u001b[0mimages\u001b[0m\u001b[0;34m,\u001b[0m \u001b[0mlabels\u001b[0m \u001b[0;32min\u001b[0m \u001b[0mval_ds\u001b[0m\u001b[0;34m.\u001b[0m\u001b[0mtake\u001b[0m\u001b[0;34m(\u001b[0m\u001b[0;36m1\u001b[0m\u001b[0;34m)\u001b[0m\u001b[0;34m:\u001b[0m\u001b[0;34m\u001b[0m\u001b[0;34m\u001b[0m\u001b[0m\n\u001b[0;32m----> 2\u001b[0;31m   \u001b[0mpredictions\u001b[0m \u001b[0;34m=\u001b[0m \u001b[0melm_model\u001b[0m\u001b[0;34m.\u001b[0m\u001b[0mpredict\u001b[0m\u001b[0;34m(\u001b[0m\u001b[0mimages\u001b[0m\u001b[0;34m)\u001b[0m\u001b[0;34m\u001b[0m\u001b[0;34m\u001b[0m\u001b[0m\n\u001b[0m",
            "\u001b[0;32m/usr/local/lib/python3.7/dist-packages/hpelm/elm.py\u001b[0m in \u001b[0;36mpredict\u001b[0;34m(self, X)\u001b[0m\n\u001b[1;32m    379\u001b[0m             \u001b[0mY\u001b[0m \u001b[0;34m(\u001b[0m\u001b[0mmatrix\u001b[0m\u001b[0;34m)\u001b[0m\u001b[0;34m:\u001b[0m \u001b[0moutput\u001b[0m \u001b[0mdata\u001b[0m \u001b[0;32mor\u001b[0m \u001b[0mpredicted\u001b[0m \u001b[0mclasses\u001b[0m\u001b[0;34m,\u001b[0m \u001b[0msize\u001b[0m \u001b[0;34m(\u001b[0m\u001b[0mN\u001b[0m \u001b[0;34m*\u001b[0m\u001b[0;31m \u001b[0m\u001b[0;31m`\u001b[0m\u001b[0moutputs\u001b[0m\u001b[0;31m`\u001b[0m\u001b[0;34m)\u001b[0m\u001b[0;34m.\u001b[0m\u001b[0;34m\u001b[0m\u001b[0;34m\u001b[0m\u001b[0m\n\u001b[1;32m    380\u001b[0m         \"\"\"\n\u001b[0;32m--> 381\u001b[0;31m         \u001b[0mX\u001b[0m\u001b[0;34m,\u001b[0m \u001b[0m_\u001b[0m \u001b[0;34m=\u001b[0m \u001b[0mself\u001b[0m\u001b[0;34m.\u001b[0m\u001b[0m_checkdata\u001b[0m\u001b[0;34m(\u001b[0m\u001b[0mX\u001b[0m\u001b[0;34m,\u001b[0m \u001b[0;32mNone\u001b[0m\u001b[0;34m)\u001b[0m\u001b[0;34m\u001b[0m\u001b[0;34m\u001b[0m\u001b[0m\n\u001b[0m\u001b[1;32m    382\u001b[0m         \u001b[0mY\u001b[0m \u001b[0;34m=\u001b[0m \u001b[0mself\u001b[0m\u001b[0;34m.\u001b[0m\u001b[0mnnet\u001b[0m\u001b[0;34m.\u001b[0m\u001b[0m_predict\u001b[0m\u001b[0;34m(\u001b[0m\u001b[0mX\u001b[0m\u001b[0;34m)\u001b[0m\u001b[0;34m\u001b[0m\u001b[0;34m\u001b[0m\u001b[0m\n\u001b[1;32m    383\u001b[0m         \u001b[0;32mreturn\u001b[0m \u001b[0mY\u001b[0m\u001b[0;34m\u001b[0m\u001b[0;34m\u001b[0m\u001b[0m\n",
            "\u001b[0;32m/usr/local/lib/python3.7/dist-packages/hpelm/elm.py\u001b[0m in \u001b[0;36m_checkdata\u001b[0;34m(self, X, T)\u001b[0m\n\u001b[1;32m    526\u001b[0m             \u001b[0;32melse\u001b[0m\u001b[0;34m:\u001b[0m\u001b[0;34m\u001b[0m\u001b[0;34m\u001b[0m\u001b[0m\n\u001b[1;32m    527\u001b[0m                 \u001b[0;31m# assert isinstance(X, np.ndarray) and\u001b[0m\u001b[0;34m\u001b[0m\u001b[0;34m\u001b[0m\u001b[0;34m\u001b[0m\u001b[0m\n\u001b[0;32m--> 528\u001b[0;31m                 \u001b[0;32massert\u001b[0m \u001b[0mX\u001b[0m\u001b[0;34m.\u001b[0m\u001b[0mdtype\u001b[0m\u001b[0;34m.\u001b[0m\u001b[0mkind\u001b[0m \u001b[0;32mnot\u001b[0m \u001b[0;32min\u001b[0m \u001b[0;34m\"OSU\"\u001b[0m\u001b[0;34m,\u001b[0m \u001b[0;34m\"X must be a numerical numpy array\"\u001b[0m\u001b[0;34m\u001b[0m\u001b[0;34m\u001b[0m\u001b[0m\n\u001b[0m\u001b[1;32m    529\u001b[0m                 \u001b[0;32mif\u001b[0m \u001b[0mlen\u001b[0m\u001b[0;34m(\u001b[0m\u001b[0mX\u001b[0m\u001b[0;34m.\u001b[0m\u001b[0mshape\u001b[0m\u001b[0;34m)\u001b[0m \u001b[0;34m==\u001b[0m \u001b[0;36m1\u001b[0m\u001b[0;34m:\u001b[0m\u001b[0;34m\u001b[0m\u001b[0;34m\u001b[0m\u001b[0m\n\u001b[1;32m    530\u001b[0m                     \u001b[0mX\u001b[0m \u001b[0;34m=\u001b[0m \u001b[0mX\u001b[0m\u001b[0;34m.\u001b[0m\u001b[0mreshape\u001b[0m\u001b[0;34m(\u001b[0m\u001b[0;34m-\u001b[0m\u001b[0;36m1\u001b[0m\u001b[0;34m,\u001b[0m \u001b[0;36m1\u001b[0m\u001b[0;34m)\u001b[0m\u001b[0;34m\u001b[0m\u001b[0;34m\u001b[0m\u001b[0m\n",
            "\u001b[0;31mAttributeError\u001b[0m: 'DType' object has no attribute 'kind'"
          ]
        }
      ]
    },
    {
      "cell_type": "code",
      "source": [
        "print(np.argmax(predictions[10]))"
      ],
      "metadata": {
        "id": "28p5kdQGHVJH"
      },
      "execution_count": null,
      "outputs": []
    },
    {
      "cell_type": "code",
      "source": [
        "#Check actual emotion/class\n",
        "plt.figure(figsize=(10, 10))\n",
        "for images, labels in val_ds.take(1):\n",
        "    plt.imshow(images[10].numpy().astype(\"uint8\"))\n",
        "    plt.title(val_ds.class_names[labels[10]])\n",
        "    plt.axis(\"off\")"
      ],
      "metadata": {
        "id": "cplxWR-NHg3O"
      },
      "execution_count": null,
      "outputs": []
    },
    {
      "cell_type": "code",
      "source": [
        "# import plotly\n",
        "# import plotly.figure_factory as ff\n",
        "#  # Confusion Matrix Plot\n",
        "# trace = ff.create_annotated_heatmap(z=confusion, colorscale=[[0, '#E6E6E6'], [1, '#04B486']])\n",
        "# for i in range(len(trace.layout.annotations)):\n",
        "#     trace.layout.annotations[i].font.size = 20\n",
        "# plotly.offline.plot(trace, filename=\"plot_result.html\")"
      ],
      "metadata": {
        "id": "Tue9CSqs2d5S"
      },
      "execution_count": null,
      "outputs": []
    }
  ],
  "metadata": {
    "colab": {
      "collapsed_sections": [],
      "machine_shape": "hm",
      "name": "3 DSCNN-ELM MODEL.ipynb",
      "provenance": [],
      "include_colab_link": true
    },
    "kernelspec": {
      "display_name": "Python 3",
      "name": "python3"
    }
  },
  "nbformat": 4,
  "nbformat_minor": 0
}